{
 "cells": [
  {
   "cell_type": "code",
   "execution_count": null,
   "id": "a88be4a3",
   "metadata": {},
   "outputs": [],
   "source": [
    "import pycaret\n",
    "from pycaret.classification import *"
   ]
  },
  {
   "cell_type": "code",
   "execution_count": null,
   "id": "2962800e",
   "metadata": {},
   "outputs": [],
   "source": [
    "transactions=pd.read_pickle('2021-03-23.pkl')\n",
    "transactions24=pd.read_pickle('2021-03-24.pkl')\n",
    "transactions25=pd.read_pickle('2021-03-25.pkl')\n",
    "transactions26=pd.read_pickle('2021-03-26.pkl')\n",
    "transactions27=pd.read_pickle('2021-03-27.pkl')"
   ]
  },
  {
   "cell_type": "code",
   "execution_count": null,
   "id": "bc2e2535",
   "metadata": {},
   "outputs": [],
   "source": [
    "transactions=transactions.append(transactions24)\n",
    "transactions=transactions.append(transactions25)\n",
    "transactions=transactions.append(transactions26)\n",
    "transactions=transactions.append(transactions27)\n"
   ]
  },
  {
   "cell_type": "code",
   "execution_count": null,
   "id": "059711f8",
   "metadata": {
    "scrolled": false
   },
   "outputs": [],
   "source": [
    "print(transactions.isnull().sum())"
   ]
  },
  {
   "cell_type": "code",
   "execution_count": null,
   "id": "8bb5fcb5",
   "metadata": {},
   "outputs": [],
   "source": [
    "transactions"
   ]
  },
  {
   "cell_type": "code",
   "execution_count": null,
   "id": "315d20c6",
   "metadata": {},
   "outputs": [],
   "source": [
    "transactions.TX_FRAUD.mean()"
   ]
  },
  {
   "cell_type": "code",
   "execution_count": null,
   "id": "3d3ffcf2",
   "metadata": {},
   "outputs": [],
   "source": [
    "transactions.TX_FRAUD.sum()"
   ]
  },
  {
   "cell_type": "code",
   "execution_count": null,
   "id": "1b062f4b",
   "metadata": {},
   "outputs": [],
   "source": [
    "import matplotlib.pyplot as pl\n",
    "import seaborn as sns"
   ]
  },
  {
   "cell_type": "code",
   "execution_count": null,
   "id": "2032c497",
   "metadata": {},
   "outputs": [],
   "source": [
    "pl.figure(figsize=(20,20))\n",
    "sns.heatmap(transactions.corr(), annot=True, fmt= '.2f')\n",
    "pl.show()"
   ]
  },
  {
   "cell_type": "code",
   "execution_count": null,
   "id": "9c45e838",
   "metadata": {
    "scrolled": true
   },
   "outputs": [],
   "source": [
    "%%time\n",
    "p1=setup(data=transactions, target= \"TX_FRAUD\", ignore_features=[\"TX_TIME_SECONDS\",\"TX_TIME_DAYS\", \"TX_FRAUD_SCENARIO\", \"SENDER_ID_AVG_AMOUNT_7DAY_WINDOW\",\"RECEIVER_ID_RISK_7DAY_WINDOW\",\"RECEIVER_ID_RISK_30DAY_WINDOW\",\"SENDER_IBAN\", \"RECEIVER_IBAN\"], numeric_features=[\"TX_DURING_WEEKEND\", \"TX_DURING_NIGHT\"], fold_strategy='kfold')"
   ]
  },
  {
   "cell_type": "code",
   "execution_count": null,
   "id": "44bd4aba",
   "metadata": {
    "scrolled": false
   },
   "outputs": [],
   "source": [
    "%%time\n",
    "best_model= compare_models()"
   ]
  },
  {
   "cell_type": "code",
   "execution_count": null,
   "id": "043cf9e4",
   "metadata": {},
   "outputs": [],
   "source": [
    "rf=create_model(\"rf\")"
   ]
  },
  {
   "cell_type": "code",
   "execution_count": null,
   "id": "c47b04fc",
   "metadata": {},
   "outputs": [],
   "source": [
    "evaluate_model(rf)"
   ]
  },
  {
   "cell_type": "code",
   "execution_count": null,
   "id": "79cc358b",
   "metadata": {},
   "outputs": [],
   "source": [
    "predict_model(rf, raw_score = True)"
   ]
  },
  {
   "cell_type": "markdown",
   "id": "32a44148",
   "metadata": {},
   "source": [
    "FINALIZE MODEL"
   ]
  },
  {
   "cell_type": "code",
   "execution_count": null,
   "id": "30365ea4",
   "metadata": {},
   "outputs": [],
   "source": [
    "final_rf=finalize_model(rf)"
   ]
  },
  {
   "cell_type": "code",
   "execution_count": null,
   "id": "2a6b7c4c",
   "metadata": {},
   "outputs": [],
   "source": [
    "save_model(rf,'Final RF Model 1 June2022')"
   ]
  },
  {
   "cell_type": "code",
   "execution_count": null,
   "id": "7bfa3973",
   "metadata": {},
   "outputs": [],
   "source": [
    "save_model(final_rf,'Final FINAL RF Model 1 June2022')"
   ]
  },
  {
   "cell_type": "markdown",
   "id": "4bc46eb8",
   "metadata": {},
   "source": [
    "GRADIENT BOOSTING CLASSIFIER"
   ]
  },
  {
   "cell_type": "code",
   "execution_count": null,
   "id": "0b68170b",
   "metadata": {},
   "outputs": [],
   "source": [
    "gbc=create_model(\"gbc\")"
   ]
  },
  {
   "cell_type": "code",
   "execution_count": null,
   "id": "d5df630f",
   "metadata": {},
   "outputs": [],
   "source": [
    "evaluate_model(gbc)"
   ]
  },
  {
   "cell_type": "code",
   "execution_count": null,
   "id": "361ab9fb",
   "metadata": {},
   "outputs": [],
   "source": [
    "plot_model(gbc, plot = 'confusion_matrix', plot_kwargs = {'percent' : True})"
   ]
  },
  {
   "cell_type": "code",
   "execution_count": null,
   "id": "bf286b7a",
   "metadata": {},
   "outputs": [],
   "source": [
    "save_model(gbc,'gbc Model 1 June2022')"
   ]
  },
  {
   "cell_type": "markdown",
   "id": "b9b568ed",
   "metadata": {},
   "source": [
    "XGBoost"
   ]
  },
  {
   "cell_type": "code",
   "execution_count": null,
   "id": "07f09ff5",
   "metadata": {},
   "outputs": [],
   "source": [
    "xgb= create_model(\"xgboost\")"
   ]
  },
  {
   "cell_type": "code",
   "execution_count": null,
   "id": "15efe103",
   "metadata": {},
   "outputs": [],
   "source": [
    "plot_model(xgb, plot='confusion_matrix', plot_kwargs={'percent' : True})"
   ]
  },
  {
   "cell_type": "code",
   "execution_count": null,
   "id": "fbf77b32",
   "metadata": {},
   "outputs": [],
   "source": [
    "evaluate_model(xgb)"
   ]
  },
  {
   "cell_type": "code",
   "execution_count": null,
   "id": "d4e6ce3a",
   "metadata": {},
   "outputs": [],
   "source": [
    "predict_model(xgb, raw_score = True)"
   ]
  },
  {
   "cell_type": "code",
   "execution_count": null,
   "id": "0688a873",
   "metadata": {},
   "outputs": [],
   "source": [
    "final_xgb=finalize_model(xgb)"
   ]
  },
  {
   "cell_type": "code",
   "execution_count": null,
   "id": "5afdda68",
   "metadata": {},
   "outputs": [],
   "source": [
    "print(final_xgb)"
   ]
  },
  {
   "cell_type": "code",
   "execution_count": null,
   "id": "314cfb67",
   "metadata": {},
   "outputs": [],
   "source": [
    "save_model(final_xgb,'Final xgb Model June2022')\n"
   ]
  },
  {
   "cell_type": "markdown",
   "id": "674f2420",
   "metadata": {},
   "source": [
    "DECISION TREE CLASSIFIER"
   ]
  },
  {
   "cell_type": "code",
   "execution_count": null,
   "id": "47533ac9",
   "metadata": {},
   "outputs": [],
   "source": [
    "dt=create_model(\"dt\")"
   ]
  }
 ],
 "metadata": {
  "kernelspec": {
   "display_name": "paulapycaret",
   "language": "python",
   "name": "pycaret"
  },
  "language_info": {
   "codemirror_mode": {
    "name": "ipython",
    "version": 3
   },
   "file_extension": ".py",
   "mimetype": "text/x-python",
   "name": "python",
   "nbconvert_exporter": "python",
   "pygments_lexer": "ipython3",
   "version": "3.8.13"
  }
 },
 "nbformat": 4,
 "nbformat_minor": 5
}
