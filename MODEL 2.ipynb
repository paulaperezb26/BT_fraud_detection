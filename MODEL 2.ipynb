{
 "cells": [
  {
   "cell_type": "code",
   "execution_count": null,
   "id": "984a0a0d",
   "metadata": {},
   "outputs": [],
   "source": [
    "import pycaret\n",
    "from pycaret.classification import *"
   ]
  },
  {
   "cell_type": "code",
   "execution_count": null,
   "id": "75a3d3eb",
   "metadata": {},
   "outputs": [],
   "source": [
    "#load_config('2020rc')"
   ]
  },
  {
   "cell_type": "code",
   "execution_count": null,
   "id": "89d77e69",
   "metadata": {},
   "outputs": [],
   "source": [
    "transactions_df= pd.read_csv('prueba.csv')"
   ]
  },
  {
   "cell_type": "code",
   "execution_count": null,
   "id": "7de9731e",
   "metadata": {},
   "outputs": [],
   "source": [
    "transactions_df"
   ]
  },
  {
   "cell_type": "code",
   "execution_count": null,
   "id": "0c20ff43",
   "metadata": {},
   "outputs": [],
   "source": [
    "transacciones_2021=transactions_df.loc[:,'TRANSACTION_ID'] >= 14000000"
   ]
  },
  {
   "cell_type": "code",
   "execution_count": null,
   "id": "a5d4e852",
   "metadata": {},
   "outputs": [],
   "source": [
    "trans_21= transactions_df.loc[transacciones_2021]"
   ]
  },
  {
   "cell_type": "code",
   "execution_count": null,
   "id": "b6a39c6c",
   "metadata": {},
   "outputs": [],
   "source": [
    "trans_21[\"TX_FRAUD\"].value_counts()"
   ]
  },
  {
   "cell_type": "code",
   "execution_count": null,
   "id": "f8d94f39",
   "metadata": {},
   "outputs": [],
   "source": [
    "trans_21.TX_FRAUD.mean()"
   ]
  },
  {
   "cell_type": "code",
   "execution_count": null,
   "id": "fcb7bfd1",
   "metadata": {},
   "outputs": [],
   "source": [
    "p1=setup(data=trans_21, target= \"TX_FRAUD\",numeric_features=[\"TX_DURING_WEEKEND\", \"TX_DURING_NIGHT\", \"TX_FRAUD_SCENARIO\", \"TX_TIME_DAYS\"], fold_strategy='kfold', remove_multicollinearity=True, multicollinearity_threshold=0.85,ignore_features=[\"SENDER_IBAN\", \"RECEIVER_IBAN\", \"RECEIVER_ID\", \"SENDER_ID\", \"TX_TIME_SECONDS\",\"TX_TIME_DAYS\", \"TX_FRAUD_SCENARIO\", \"SENDER_ID_AVG_AMOUNT_7DAY_WINDOW\",\"RECEIVER_ID_RISK_7DAY_WINDOW\",\"RECEIVER_ID_RISK_30DAY_WINDOW\"])"
   ]
  },
  {
   "cell_type": "code",
   "execution_count": null,
   "id": "d4d6191a",
   "metadata": {},
   "outputs": [],
   "source": [
    "best_model= compare_models()"
   ]
  },
  {
   "cell_type": "markdown",
   "id": "b740f9a2",
   "metadata": {},
   "source": [
    "ADA BOOST CLASSIFIER"
   ]
  },
  {
   "cell_type": "code",
   "execution_count": null,
   "id": "1b68c126",
   "metadata": {},
   "outputs": [],
   "source": [
    "ada=create_model(\"ada\")"
   ]
  },
  {
   "cell_type": "code",
   "execution_count": null,
   "id": "c9e77178",
   "metadata": {},
   "outputs": [],
   "source": [
    "save_model(ada, 'ADA MODEL 2 26JUN2022')"
   ]
  },
  {
   "cell_type": "code",
   "execution_count": null,
   "id": "91ca9c05",
   "metadata": {
    "scrolled": false
   },
   "outputs": [],
   "source": [
    "evaluate_model(ada)"
   ]
  },
  {
   "cell_type": "code",
   "execution_count": null,
   "id": "bab1d3e1",
   "metadata": {},
   "outputs": [],
   "source": [
    "predict_model(ada, raw_score = True)"
   ]
  },
  {
   "cell_type": "markdown",
   "id": "1ddaaddc",
   "metadata": {},
   "source": [
    "FINALIZE"
   ]
  },
  {
   "cell_type": "code",
   "execution_count": null,
   "id": "e828a06f",
   "metadata": {},
   "outputs": [],
   "source": [
    "final_ada=finalize_model(ada)"
   ]
  },
  {
   "cell_type": "code",
   "execution_count": null,
   "id": "9e40952d",
   "metadata": {},
   "outputs": [],
   "source": [
    "save_model(final_ada,'FINAL ada Model 2 June2022')"
   ]
  },
  {
   "cell_type": "markdown",
   "id": "d2f487ed",
   "metadata": {},
   "source": [
    "Gradient Boosting Classifier"
   ]
  },
  {
   "cell_type": "code",
   "execution_count": null,
   "id": "49bceb20",
   "metadata": {},
   "outputs": [],
   "source": [
    "gbc=create_model(\"gbc\")"
   ]
  },
  {
   "cell_type": "code",
   "execution_count": null,
   "id": "42f03181",
   "metadata": {},
   "outputs": [],
   "source": [
    "save_model(gbc, 'GBC MODEL 2 26JUN2022')"
   ]
  },
  {
   "cell_type": "code",
   "execution_count": null,
   "id": "02c41390",
   "metadata": {
    "scrolled": false
   },
   "outputs": [],
   "source": [
    "evaluate_model(gbc)"
   ]
  },
  {
   "cell_type": "code",
   "execution_count": null,
   "id": "13e1f940",
   "metadata": {},
   "outputs": [],
   "source": [
    "predict_model(gbc, raw_score = True)"
   ]
  },
  {
   "cell_type": "markdown",
   "id": "8f066eff",
   "metadata": {},
   "source": [
    "FINALIZE"
   ]
  },
  {
   "cell_type": "code",
   "execution_count": null,
   "id": "da8e5e6b",
   "metadata": {},
   "outputs": [],
   "source": [
    "final_gbc=finalize_model(gbc)"
   ]
  },
  {
   "cell_type": "code",
   "execution_count": null,
   "id": "aaefa80b",
   "metadata": {},
   "outputs": [],
   "source": [
    "save_model(final_gbc,'FINAL gbc Model 2 June2022')"
   ]
  },
  {
   "cell_type": "markdown",
   "id": "d7ef1619",
   "metadata": {},
   "source": [
    "XGBoost"
   ]
  },
  {
   "cell_type": "code",
   "execution_count": null,
   "id": "8cc7fb45",
   "metadata": {
    "scrolled": false
   },
   "outputs": [],
   "source": [
    "xgb=create_model(\"xgboost\")"
   ]
  },
  {
   "cell_type": "code",
   "execution_count": null,
   "id": "cc559485",
   "metadata": {},
   "outputs": [],
   "source": [
    "save_model(xgb, 'XGB MODEL 2 26JUN2022')"
   ]
  },
  {
   "cell_type": "code",
   "execution_count": null,
   "id": "4c792c30",
   "metadata": {
    "scrolled": false
   },
   "outputs": [],
   "source": [
    "evaluate_model(xgb)"
   ]
  },
  {
   "cell_type": "code",
   "execution_count": null,
   "id": "3775c07b",
   "metadata": {},
   "outputs": [],
   "source": [
    "predict_model(xgb, raw_score = True)"
   ]
  },
  {
   "cell_type": "markdown",
   "id": "b816b09f",
   "metadata": {},
   "source": [
    "FINALIZE"
   ]
  },
  {
   "cell_type": "code",
   "execution_count": null,
   "id": "3968e1d4",
   "metadata": {},
   "outputs": [],
   "source": [
    "#final_xgb=finalize_model(xgb)"
   ]
  },
  {
   "cell_type": "code",
   "execution_count": null,
   "id": "a8a860ae",
   "metadata": {},
   "outputs": [],
   "source": [
    "#save_model(final_XGB,'FINAL XGB Model 2 June2022')"
   ]
  },
  {
   "cell_type": "markdown",
   "id": "f9b1143f",
   "metadata": {},
   "source": [
    "Decision Tree Classifier"
   ]
  },
  {
   "cell_type": "code",
   "execution_count": null,
   "id": "744746a7",
   "metadata": {},
   "outputs": [],
   "source": [
    "dt=create_model(\"dt\")"
   ]
  },
  {
   "cell_type": "code",
   "execution_count": null,
   "id": "1183066b",
   "metadata": {},
   "outputs": [],
   "source": [
    "save_model(dt, 'dt MODEL 2 26JUN2022')"
   ]
  },
  {
   "cell_type": "code",
   "execution_count": null,
   "id": "ccb5231f",
   "metadata": {},
   "outputs": [],
   "source": [
    "evaluate_model(dt)"
   ]
  },
  {
   "cell_type": "code",
   "execution_count": null,
   "id": "bfbb1efc",
   "metadata": {},
   "outputs": [],
   "source": [
    "predict_model(dt, raw_score = True)"
   ]
  },
  {
   "cell_type": "markdown",
   "id": "c374b60d",
   "metadata": {},
   "source": [
    "FINALIZE"
   ]
  },
  {
   "cell_type": "code",
   "execution_count": null,
   "id": "f3b5b149",
   "metadata": {},
   "outputs": [],
   "source": [
    "#final_dt=finalize_model(dt)"
   ]
  },
  {
   "cell_type": "code",
   "execution_count": null,
   "id": "8abe8b8e",
   "metadata": {},
   "outputs": [],
   "source": [
    "#save_model(final_dt,'FINAL dt Model 2 June2022')"
   ]
  },
  {
   "cell_type": "markdown",
   "id": "98ee202a",
   "metadata": {},
   "source": [
    "Random Forest Classifier"
   ]
  },
  {
   "cell_type": "code",
   "execution_count": null,
   "id": "0afd82bc",
   "metadata": {},
   "outputs": [],
   "source": [
    "rf=create_model(\"rf\")"
   ]
  },
  {
   "cell_type": "code",
   "execution_count": null,
   "id": "30582e09",
   "metadata": {},
   "outputs": [],
   "source": [
    "evaluate_model(rf)"
   ]
  },
  {
   "cell_type": "code",
   "execution_count": null,
   "id": "9e1308da",
   "metadata": {},
   "outputs": [],
   "source": [
    "save_model(rf, 'rf MODEL 2 26JUN2022')"
   ]
  },
  {
   "cell_type": "code",
   "execution_count": null,
   "id": "a42ffa0d",
   "metadata": {},
   "outputs": [],
   "source": [
    "predict_model(rf, raw_score = True)"
   ]
  },
  {
   "cell_type": "markdown",
   "id": "226565b9",
   "metadata": {},
   "source": [
    "FINALIZE"
   ]
  },
  {
   "cell_type": "code",
   "execution_count": null,
   "id": "1365b7df",
   "metadata": {},
   "outputs": [],
   "source": [
    "#final_rf=finalize_model(rf)"
   ]
  },
  {
   "cell_type": "code",
   "execution_count": null,
   "id": "b0b0b3f7",
   "metadata": {},
   "outputs": [],
   "source": [
    "#save_model(final_rf,'FINAL r Model 2 June2022')"
   ]
  }
 ],
 "metadata": {
  "kernelspec": {
   "display_name": "paulapycaret",
   "language": "python",
   "name": "pycaret"
  },
  "language_info": {
   "codemirror_mode": {
    "name": "ipython",
    "version": 3
   },
   "file_extension": ".py",
   "mimetype": "text/x-python",
   "name": "python",
   "nbconvert_exporter": "python",
   "pygments_lexer": "ipython3",
   "version": "3.8.13"
  }
 },
 "nbformat": 4,
 "nbformat_minor": 5
}
